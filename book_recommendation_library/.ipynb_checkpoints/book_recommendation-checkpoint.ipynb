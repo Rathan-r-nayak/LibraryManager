{
 "cells": [
  {
   "cell_type": "code",
   "execution_count": 1,
   "id": "02ca9495",
   "metadata": {},
   "outputs": [],
   "source": [
    "import numpy as np\n",
    "import pandas as pd\n",
    "import json\n",
    "import csv\n",
    "import pandas as pd\n",
    "import numpy as np\n",
    "import matplotlib.pyplot as plt"
   ]
  },
  {
   "cell_type": "code",
   "execution_count": 2,
   "id": "e0d17a05",
   "metadata": {},
   "outputs": [],
   "source": [
    "data = []\n",
    "with open('booksummaries.txt', 'r') as f:\n",
    "    reader = csv.reader(f, dialect='excel-tab')\n",
    "    for row in reader:\n",
    "        data.append(row)\n",
    "\n",
    "# convert data to pandas dataframe\n",
    "df = pd.DataFrame.from_records(data, columns=['book_id', 'freebase_id', 'book_title', 'author', 'publication_date', 'genre', 'summary'])"
   ]
  },
  {
   "cell_type": "code",
   "execution_count": 3,
   "id": "462865e4",
   "metadata": {},
   "outputs": [],
   "source": [
    "df.head()\n",
    "df.to_csv(\"books.csv\")"
   ]
  },
  {
   "cell_type": "code",
   "execution_count": 4,
   "id": "494121da",
   "metadata": {},
   "outputs": [
    {
     "data": {
      "text/plain": [
       "(16559, 7)"
      ]
     },
     "execution_count": 4,
     "metadata": {},
     "output_type": "execute_result"
    }
   ],
   "source": [
    "df.shape"
   ]
  },
  {
   "cell_type": "code",
   "execution_count": 5,
   "id": "60291241",
   "metadata": {},
   "outputs": [
    {
     "name": "stdout",
     "output_type": "stream",
     "text": [
      "<class 'pandas.core.frame.DataFrame'>\n",
      "RangeIndex: 16559 entries, 0 to 16558\n",
      "Data columns (total 7 columns):\n",
      " #   Column            Non-Null Count  Dtype \n",
      "---  ------            --------------  ----- \n",
      " 0   book_id           16559 non-null  object\n",
      " 1   freebase_id       16559 non-null  object\n",
      " 2   book_title        16559 non-null  object\n",
      " 3   author            16559 non-null  object\n",
      " 4   publication_date  16559 non-null  object\n",
      " 5   genre             16559 non-null  object\n",
      " 6   summary           16559 non-null  object\n",
      "dtypes: object(7)\n",
      "memory usage: 905.7+ KB\n"
     ]
    }
   ],
   "source": [
    "df.info()"
   ]
  },
  {
   "cell_type": "code",
   "execution_count": 6,
   "id": "fa9e02f7",
   "metadata": {},
   "outputs": [
    {
     "data": {
      "text/plain": [
       "book_id             0\n",
       "freebase_id         0\n",
       "book_title          0\n",
       "author              0\n",
       "publication_date    0\n",
       "genre               0\n",
       "summary             0\n",
       "dtype: int64"
      ]
     },
     "execution_count": 6,
     "metadata": {},
     "output_type": "execute_result"
    }
   ],
   "source": [
    "df.isnull().sum()"
   ]
  },
  {
   "cell_type": "code",
   "execution_count": 7,
   "id": "a5da91a4",
   "metadata": {},
   "outputs": [
    {
     "data": {
      "text/plain": [
       "' Old Major, the old boar on the Manor Farm, calls the animals on the farm for a meeting, where he compares the humans to parasites and teaches the animals a revolutionary song, \\'Beasts of England\\'. When Major dies, two young pigs, Snowball and Napoleon, assume command and turn his dream into a philosophy. The animals revolt and drive the drunken and irresponsible Mr Jones from the farm, renaming it \"Animal Farm\". They adopt Seven Commandments of Animal-ism, the most important of which is, \"All animals are equal\". Snowball attempts to teach the animals reading and writing; food is plentiful, and the farm runs smoothly. The pigs elevate themselves to positions of leadership and set aside special food items, ostensibly for their personal health. Napoleon takes the pups from the farm dogs and trains them privately. Napoleon and Snowball struggle for leadership. When Snowball announces his plans to build a windmill, Napoleon has his dogs chase Snowball away and declares himself leader. Napoleon enacts changes to the governance structure of the farm, replacing meetings with a committee of pigs, who will run the farm. Using a young pig named Squealer as a \"mouthpiece\", Napoleon claims credit for the windmill idea. The animals work harder with the promise of easier lives with the windmill. After a violent storm, the animals find the windmill annihilated. Napoleon and Squealer convince the animals that Snowball destroyed it, although the scorn of the neighbouring farmers suggests that its walls were too thin. Once Snowball becomes a scapegoat, Napoleon begins purging the farm with his dogs, killing animals he accuses of consorting with his old rival. He and the pigs abuse their power, imposing more control while reserving privileges for themselves and rewriting history, villainising Snowball and glorifying Napoleon. Squealer justifies every statement Napoleon makes, even the pigs\\' alteration of the Seven Commandments of Animalism to benefit themselves. \\'Beasts of England\\' is replaced by an anthem glorifying Napoleon, who appears to be adopting the lifestyle of a man. The animals remain convinced that they are better off than they were when under Mr Jones. Squealer abuses the animals\\' poor memories and invents numbers to show their improvement. Mr Frederick, one of the neighbouring farmers, attacks the farm, using blasting powder to blow up the restored windmill. Though the animals win the battle, they do so at great cost, as many, including Boxer the workhorse, are wounded. Despite his injuries, Boxer continues working harder and harder, until he collapses while working on the windmill. Napoleon sends for a van to take Boxer to the veterinary surgeon\\'s, explaining that better care can be given there. Benjamin, the cynical donkey, who \"could read as well as any pig\", notices that the van belongs to a knacker, and attempts to mount a rescue; but the animals\\' attempts are futile. Squealer reports that the van was purchased by the hospital and the writing from the previous owner had not been repainted. He recounts a tale of Boxer\\'s death in the hands of the best medical care. Years pass, and the pigs learn to walk upright, carry whips and wear clothes. The Seven Commandments are reduced to a single phrase: \"All animals are equal, but some animals are more equal than others\". Napoleon holds a dinner party for the pigs and the humans of the area, who congratulate Napoleon on having the hardest-working but least fed animals in the country. Napoleon announces an alliance with the humans, against the labouring classes of both \"worlds\". He abolishes practices and traditions related to the Revolution, and changes the name of the farm to \"The Manor Farm\". The animals, overhearing the conversation, notice that the faces of the pigs have begun changing. During a poker match, an argument breaks out between Napoleon and Mr Pilkington, and the animals realise that the faces of the pigs look like the faces of humans, and no one can tell the difference between them. The pigs Snowball, Napoleon, and Squealer adapt Old Major\\'s ideas into an actual philosophy, which they formally name Animalism. Soon after, Napoleon and Squealer indulge in the vices of humans (drinking alcohol, sleeping in beds, trading). Squealer is employed to alter the Seven Commandments to account for this humanisation, an allusion to the Soviet government\\'s revising of history in order to exercise control of the people\\'s beliefs about themselves and their society. The original commandments are: # Whatever goes upon two legs is an enemy. # Whatever goes upon four legs, or has wings, is a friend. # No animal shall wear clothes. # No animal shall sleep in a bed. # No animal shall drink alcohol. # No animal shall kill any other animal. # All animals are equal. Later, Napoleon and his pigs secretly revise some commandments to clear them of accusations of law-breaking (such as \"No animal shall drink alcohol\" having \"to excess\" appended to it and \"No animal shall sleep in a bed\" with \"with sheets\" added to it). The changed commandments are as follows, with the changes bolded: * 4 No animal shall sleep in a bed with sheets. * 5 No animal shall drink alcohol to excess. * 6 No animal shall kill any other animal without cause. Eventually these are replaced with the maxims, \"All animals are equal, but some animals are more equal than others\", and \"Four legs good, two legs better!\" as the pigs become more human. This is an ironic twist to the original purpose of the Seven Commandments, which were supposed to keep order within Animal Farm by uniting the animals together against the humans, and prevent animals from following the humans\\' evil habits. Through the revision of the commandments, Orwell demonstrates how simply political dogma can be turned into malleable propaganda.'"
      ]
     },
     "execution_count": 7,
     "metadata": {},
     "output_type": "execute_result"
    }
   ],
   "source": [
    "df.iloc[0,6]"
   ]
  },
  {
   "cell_type": "code",
   "execution_count": 8,
   "id": "dd91747d",
   "metadata": {},
   "outputs": [
    {
     "data": {
      "text/plain": [
       "'{\"/m/016lj8\": \"Roman \\\\u00e0 clef\", \"/m/06nbt\": \"Satire\", \"/m/0dwly\": \"Children\\'s literature\", \"/m/014dfn\": \"Speculative fiction\", \"/m/02xlf\": \"Fiction\"}'"
      ]
     },
     "execution_count": 8,
     "metadata": {},
     "output_type": "execute_result"
    }
   ],
   "source": [
    "df.iloc[0,5]"
   ]
  },
  {
   "cell_type": "code",
   "execution_count": 9,
   "id": "958f81d5",
   "metadata": {},
   "outputs": [
    {
     "data": {
      "text/html": [
       "<div>\n",
       "<style scoped>\n",
       "    .dataframe tbody tr th:only-of-type {\n",
       "        vertical-align: middle;\n",
       "    }\n",
       "\n",
       "    .dataframe tbody tr th {\n",
       "        vertical-align: top;\n",
       "    }\n",
       "\n",
       "    .dataframe thead th {\n",
       "        text-align: right;\n",
       "    }\n",
       "</style>\n",
       "<table border=\"1\" class=\"dataframe\">\n",
       "  <thead>\n",
       "    <tr style=\"text-align: right;\">\n",
       "      <th></th>\n",
       "      <th>book_id</th>\n",
       "      <th>freebase_id</th>\n",
       "      <th>book_title</th>\n",
       "      <th>author</th>\n",
       "      <th>publication_date</th>\n",
       "      <th>genre</th>\n",
       "      <th>summary</th>\n",
       "    </tr>\n",
       "  </thead>\n",
       "  <tbody>\n",
       "    <tr>\n",
       "      <th>5278</th>\n",
       "      <td>4118516</td>\n",
       "      <td>/m/0bk34f</td>\n",
       "      <td>Geis of the Gargoyle</td>\n",
       "      <td>Piers Anthony</td>\n",
       "      <td>1995-02</td>\n",
       "      <td>{\"/m/06n90\": \"Science Fiction\", \"/m/014dfn\": \"...</td>\n",
       "      <td>SUMMARY: Seeking a spell that will restore th...</td>\n",
       "    </tr>\n",
       "    <tr>\n",
       "      <th>848</th>\n",
       "      <td>327449</td>\n",
       "      <td>/m/01wbd7</td>\n",
       "      <td>The Persians</td>\n",
       "      <td>Aeschylus</td>\n",
       "      <td></td>\n",
       "      <td></td>\n",
       "      <td>The Persians takes place in Susa, Iran, which...</td>\n",
       "    </tr>\n",
       "    <tr>\n",
       "      <th>1893</th>\n",
       "      <td>963826</td>\n",
       "      <td>/m/03tv_9</td>\n",
       "      <td>Memoirs Found in a Bathtub</td>\n",
       "      <td>Stanisław Lem</td>\n",
       "      <td>1971</td>\n",
       "      <td>{\"/m/026ny\": \"Dystopia\", \"/m/06n90\": \"Science ...</td>\n",
       "      <td>Set in the distant future, Memoirs Found in a...</td>\n",
       "    </tr>\n",
       "  </tbody>\n",
       "</table>\n",
       "</div>"
      ],
      "text/plain": [
       "      book_id freebase_id                  book_title         author   \n",
       "5278  4118516   /m/0bk34f        Geis of the Gargoyle  Piers Anthony  \\\n",
       "848    327449   /m/01wbd7                The Persians      Aeschylus   \n",
       "1893   963826   /m/03tv_9  Memoirs Found in a Bathtub  Stanisław Lem   \n",
       "\n",
       "     publication_date                                              genre   \n",
       "5278          1995-02  {\"/m/06n90\": \"Science Fiction\", \"/m/014dfn\": \"...  \\\n",
       "848                                                                        \n",
       "1893             1971  {\"/m/026ny\": \"Dystopia\", \"/m/06n90\": \"Science ...   \n",
       "\n",
       "                                                summary  \n",
       "5278   SUMMARY: Seeking a spell that will restore th...  \n",
       "848    The Persians takes place in Susa, Iran, which...  \n",
       "1893   Set in the distant future, Memoirs Found in a...  "
      ]
     },
     "execution_count": 9,
     "metadata": {},
     "output_type": "execute_result"
    }
   ],
   "source": [
    "df.sample(3)"
   ]
  },
  {
   "cell_type": "code",
   "execution_count": 10,
   "id": "dc96ee33",
   "metadata": {},
   "outputs": [],
   "source": [
    "df['summary_tag']=df['summary'].str.split()"
   ]
  },
  {
   "cell_type": "code",
   "execution_count": 11,
   "id": "1035d854",
   "metadata": {},
   "outputs": [
    {
     "data": {
      "text/html": [
       "<div>\n",
       "<style scoped>\n",
       "    .dataframe tbody tr th:only-of-type {\n",
       "        vertical-align: middle;\n",
       "    }\n",
       "\n",
       "    .dataframe tbody tr th {\n",
       "        vertical-align: top;\n",
       "    }\n",
       "\n",
       "    .dataframe thead th {\n",
       "        text-align: right;\n",
       "    }\n",
       "</style>\n",
       "<table border=\"1\" class=\"dataframe\">\n",
       "  <thead>\n",
       "    <tr style=\"text-align: right;\">\n",
       "      <th></th>\n",
       "      <th>book_id</th>\n",
       "      <th>freebase_id</th>\n",
       "      <th>book_title</th>\n",
       "      <th>author</th>\n",
       "      <th>publication_date</th>\n",
       "      <th>genre</th>\n",
       "      <th>summary</th>\n",
       "      <th>summary_tag</th>\n",
       "    </tr>\n",
       "  </thead>\n",
       "  <tbody>\n",
       "    <tr>\n",
       "      <th>10139</th>\n",
       "      <td>11914042</td>\n",
       "      <td>/m/02rxs4n</td>\n",
       "      <td>Travels in the Scriptorium</td>\n",
       "      <td>Paul Auster</td>\n",
       "      <td>2007-01-23</td>\n",
       "      <td>{\"/m/05hgj\": \"Novel\"}</td>\n",
       "      <td>An old man is disoriented in an unknown chamb...</td>\n",
       "      <td>[An, old, man, is, disoriented, in, an, unknow...</td>\n",
       "    </tr>\n",
       "    <tr>\n",
       "      <th>11677</th>\n",
       "      <td>15931932</td>\n",
       "      <td>/m/03qhcvj</td>\n",
       "      <td>Poison Study</td>\n",
       "      <td>Maria V. Snyder</td>\n",
       "      <td>2005-10</td>\n",
       "      <td>{\"/m/01hmnh\": \"Fantasy\"}</td>\n",
       "      <td>Not everyone is pleased by Yelena's acceptanc...</td>\n",
       "      <td>[Not, everyone, is, pleased, by, Yelena's, acc...</td>\n",
       "    </tr>\n",
       "    <tr>\n",
       "      <th>4803</th>\n",
       "      <td>3603761</td>\n",
       "      <td>/m/09pb8r</td>\n",
       "      <td>Power of Persuasion</td>\n",
       "      <td>Elizabeth Massie</td>\n",
       "      <td>1999-10</td>\n",
       "      <td>{\"/m/06n90\": \"Science Fiction\", \"/m/03npn\": \"H...</td>\n",
       "      <td>When dead guys start turning up as soon as th...</td>\n",
       "      <td>[When, dead, guys, start, turning, up, as, soo...</td>\n",
       "    </tr>\n",
       "  </tbody>\n",
       "</table>\n",
       "</div>"
      ],
      "text/plain": [
       "        book_id freebase_id                  book_title            author   \n",
       "10139  11914042  /m/02rxs4n  Travels in the Scriptorium       Paul Auster  \\\n",
       "11677  15931932  /m/03qhcvj                Poison Study   Maria V. Snyder   \n",
       "4803    3603761   /m/09pb8r         Power of Persuasion  Elizabeth Massie   \n",
       "\n",
       "      publication_date                                              genre   \n",
       "10139       2007-01-23                              {\"/m/05hgj\": \"Novel\"}  \\\n",
       "11677          2005-10                           {\"/m/01hmnh\": \"Fantasy\"}   \n",
       "4803           1999-10  {\"/m/06n90\": \"Science Fiction\", \"/m/03npn\": \"H...   \n",
       "\n",
       "                                                 summary   \n",
       "10139   An old man is disoriented in an unknown chamb...  \\\n",
       "11677   Not everyone is pleased by Yelena's acceptanc...   \n",
       "4803    When dead guys start turning up as soon as th...   \n",
       "\n",
       "                                             summary_tag  \n",
       "10139  [An, old, man, is, disoriented, in, an, unknow...  \n",
       "11677  [Not, everyone, is, pleased, by, Yelena's, acc...  \n",
       "4803   [When, dead, guys, start, turning, up, as, soo...  "
      ]
     },
     "execution_count": 11,
     "metadata": {},
     "output_type": "execute_result"
    }
   ],
   "source": [
    "df.sample(3)"
   ]
  },
  {
   "cell_type": "code",
   "execution_count": 12,
   "id": "763773ed",
   "metadata": {},
   "outputs": [
    {
     "data": {
      "text/plain": [
       "'{\"/m/016lj8\": \"Roman \\\\u00e0 clef\", \"/m/06nbt\": \"Satire\", \"/m/0dwly\": \"Children\\'s literature\", \"/m/014dfn\": \"Speculative fiction\", \"/m/02xlf\": \"Fiction\"}'"
      ]
     },
     "execution_count": 12,
     "metadata": {},
     "output_type": "execute_result"
    }
   ],
   "source": [
    "df['genre'][0]"
   ]
  },
  {
   "cell_type": "code",
   "execution_count": 13,
   "id": "d84d2c5f",
   "metadata": {},
   "outputs": [
    {
     "data": {
      "text/plain": [
       "'{\"/m/06n90\": \"Science Fiction\", \"/m/0l67h\": \"Novella\", \"/m/014dfn\": \"Speculative fiction\", \"/m/0c082\": \"Utopian and dystopian fiction\", \"/m/06nbt\": \"Satire\", \"/m/02xlf\": \"Fiction\"}'"
      ]
     },
     "execution_count": 13,
     "metadata": {},
     "output_type": "execute_result"
    }
   ],
   "source": [
    "df['genre'][1]"
   ]
  },
  {
   "cell_type": "code",
   "execution_count": 14,
   "id": "9e2c351d",
   "metadata": {},
   "outputs": [],
   "source": [
    "def appply_genre(a):\n",
    "    if(a==\"\"):\n",
    "        return []\n",
    "    genre_dict = json.loads(a)\n",
    "    genres = list(genre_dict.values())\n",
    "    return genres"
   ]
  },
  {
   "cell_type": "code",
   "execution_count": 15,
   "id": "3aa45511",
   "metadata": {},
   "outputs": [],
   "source": [
    "df['genre']=df['genre'].apply(appply_genre)"
   ]
  },
  {
   "cell_type": "code",
   "execution_count": 16,
   "id": "f3162de1",
   "metadata": {},
   "outputs": [
    {
     "data": {
      "text/html": [
       "<div>\n",
       "<style scoped>\n",
       "    .dataframe tbody tr th:only-of-type {\n",
       "        vertical-align: middle;\n",
       "    }\n",
       "\n",
       "    .dataframe tbody tr th {\n",
       "        vertical-align: top;\n",
       "    }\n",
       "\n",
       "    .dataframe thead th {\n",
       "        text-align: right;\n",
       "    }\n",
       "</style>\n",
       "<table border=\"1\" class=\"dataframe\">\n",
       "  <thead>\n",
       "    <tr style=\"text-align: right;\">\n",
       "      <th></th>\n",
       "      <th>book_id</th>\n",
       "      <th>freebase_id</th>\n",
       "      <th>book_title</th>\n",
       "      <th>author</th>\n",
       "      <th>publication_date</th>\n",
       "      <th>genre</th>\n",
       "      <th>summary</th>\n",
       "      <th>summary_tag</th>\n",
       "    </tr>\n",
       "  </thead>\n",
       "  <tbody>\n",
       "    <tr>\n",
       "      <th>0</th>\n",
       "      <td>620</td>\n",
       "      <td>/m/0hhy</td>\n",
       "      <td>Animal Farm</td>\n",
       "      <td>George Orwell</td>\n",
       "      <td>1945-08-17</td>\n",
       "      <td>[Roman à clef, Satire, Children's literature, ...</td>\n",
       "      <td>Old Major, the old boar on the Manor Farm, ca...</td>\n",
       "      <td>[Old, Major,, the, old, boar, on, the, Manor, ...</td>\n",
       "    </tr>\n",
       "    <tr>\n",
       "      <th>1</th>\n",
       "      <td>843</td>\n",
       "      <td>/m/0k36</td>\n",
       "      <td>A Clockwork Orange</td>\n",
       "      <td>Anthony Burgess</td>\n",
       "      <td>1962</td>\n",
       "      <td>[Science Fiction, Novella, Speculative fiction...</td>\n",
       "      <td>Alex, a teenager living in near-future Englan...</td>\n",
       "      <td>[Alex,, a, teenager, living, in, near-future, ...</td>\n",
       "    </tr>\n",
       "    <tr>\n",
       "      <th>2</th>\n",
       "      <td>986</td>\n",
       "      <td>/m/0ldx</td>\n",
       "      <td>The Plague</td>\n",
       "      <td>Albert Camus</td>\n",
       "      <td>1947</td>\n",
       "      <td>[Existentialism, Fiction, Absurdist fiction, N...</td>\n",
       "      <td>The text of The Plague is divided into five p...</td>\n",
       "      <td>[The, text, of, The, Plague, is, divided, into...</td>\n",
       "    </tr>\n",
       "    <tr>\n",
       "      <th>3</th>\n",
       "      <td>1756</td>\n",
       "      <td>/m/0sww</td>\n",
       "      <td>An Enquiry Concerning Human Understanding</td>\n",
       "      <td>David Hume</td>\n",
       "      <td></td>\n",
       "      <td>[]</td>\n",
       "      <td>The argument of the Enquiry proceeds by a ser...</td>\n",
       "      <td>[The, argument, of, the, Enquiry, proceeds, by...</td>\n",
       "    </tr>\n",
       "    <tr>\n",
       "      <th>4</th>\n",
       "      <td>2080</td>\n",
       "      <td>/m/0wkt</td>\n",
       "      <td>A Fire Upon the Deep</td>\n",
       "      <td>Vernor Vinge</td>\n",
       "      <td></td>\n",
       "      <td>[Hard science fiction, Science Fiction, Specul...</td>\n",
       "      <td>The novel posits that space around the Milky ...</td>\n",
       "      <td>[The, novel, posits, that, space, around, the,...</td>\n",
       "    </tr>\n",
       "  </tbody>\n",
       "</table>\n",
       "</div>"
      ],
      "text/plain": [
       "  book_id freebase_id                                 book_title   \n",
       "0     620     /m/0hhy                                Animal Farm  \\\n",
       "1     843     /m/0k36                         A Clockwork Orange   \n",
       "2     986     /m/0ldx                                 The Plague   \n",
       "3    1756     /m/0sww  An Enquiry Concerning Human Understanding   \n",
       "4    2080     /m/0wkt                       A Fire Upon the Deep   \n",
       "\n",
       "            author publication_date   \n",
       "0    George Orwell       1945-08-17  \\\n",
       "1  Anthony Burgess             1962   \n",
       "2     Albert Camus             1947   \n",
       "3       David Hume                    \n",
       "4     Vernor Vinge                    \n",
       "\n",
       "                                               genre   \n",
       "0  [Roman à clef, Satire, Children's literature, ...  \\\n",
       "1  [Science Fiction, Novella, Speculative fiction...   \n",
       "2  [Existentialism, Fiction, Absurdist fiction, N...   \n",
       "3                                                 []   \n",
       "4  [Hard science fiction, Science Fiction, Specul...   \n",
       "\n",
       "                                             summary   \n",
       "0   Old Major, the old boar on the Manor Farm, ca...  \\\n",
       "1   Alex, a teenager living in near-future Englan...   \n",
       "2   The text of The Plague is divided into five p...   \n",
       "3   The argument of the Enquiry proceeds by a ser...   \n",
       "4   The novel posits that space around the Milky ...   \n",
       "\n",
       "                                         summary_tag  \n",
       "0  [Old, Major,, the, old, boar, on, the, Manor, ...  \n",
       "1  [Alex,, a, teenager, living, in, near-future, ...  \n",
       "2  [The, text, of, The, Plague, is, divided, into...  \n",
       "3  [The, argument, of, the, Enquiry, proceeds, by...  \n",
       "4  [The, novel, posits, that, space, around, the,...  "
      ]
     },
     "execution_count": 16,
     "metadata": {},
     "output_type": "execute_result"
    }
   ],
   "source": [
    "df.head()"
   ]
  },
  {
   "cell_type": "code",
   "execution_count": 17,
   "id": "75f48fe2",
   "metadata": {},
   "outputs": [],
   "source": [
    "def merge_name(a):\n",
    "    li=[]\n",
    "    for i in a:\n",
    "        li.append(\"\".join(i.split()))\n",
    "    return li"
   ]
  },
  {
   "cell_type": "code",
   "execution_count": 18,
   "id": "1680127d",
   "metadata": {},
   "outputs": [],
   "source": [
    "df['genre']=df['genre'].apply(merge_name)"
   ]
  },
  {
   "cell_type": "code",
   "execution_count": 19,
   "id": "8596d9d6",
   "metadata": {},
   "outputs": [
    {
     "data": {
      "text/html": [
       "<div>\n",
       "<style scoped>\n",
       "    .dataframe tbody tr th:only-of-type {\n",
       "        vertical-align: middle;\n",
       "    }\n",
       "\n",
       "    .dataframe tbody tr th {\n",
       "        vertical-align: top;\n",
       "    }\n",
       "\n",
       "    .dataframe thead th {\n",
       "        text-align: right;\n",
       "    }\n",
       "</style>\n",
       "<table border=\"1\" class=\"dataframe\">\n",
       "  <thead>\n",
       "    <tr style=\"text-align: right;\">\n",
       "      <th></th>\n",
       "      <th>book_id</th>\n",
       "      <th>freebase_id</th>\n",
       "      <th>book_title</th>\n",
       "      <th>author</th>\n",
       "      <th>publication_date</th>\n",
       "      <th>genre</th>\n",
       "      <th>summary</th>\n",
       "      <th>summary_tag</th>\n",
       "    </tr>\n",
       "  </thead>\n",
       "  <tbody>\n",
       "    <tr>\n",
       "      <th>0</th>\n",
       "      <td>620</td>\n",
       "      <td>/m/0hhy</td>\n",
       "      <td>Animal Farm</td>\n",
       "      <td>George Orwell</td>\n",
       "      <td>1945-08-17</td>\n",
       "      <td>[Romanàclef, Satire, Children'sliterature, Spe...</td>\n",
       "      <td>Old Major, the old boar on the Manor Farm, ca...</td>\n",
       "      <td>[Old, Major,, the, old, boar, on, the, Manor, ...</td>\n",
       "    </tr>\n",
       "    <tr>\n",
       "      <th>1</th>\n",
       "      <td>843</td>\n",
       "      <td>/m/0k36</td>\n",
       "      <td>A Clockwork Orange</td>\n",
       "      <td>Anthony Burgess</td>\n",
       "      <td>1962</td>\n",
       "      <td>[ScienceFiction, Novella, Speculativefiction, ...</td>\n",
       "      <td>Alex, a teenager living in near-future Englan...</td>\n",
       "      <td>[Alex,, a, teenager, living, in, near-future, ...</td>\n",
       "    </tr>\n",
       "    <tr>\n",
       "      <th>2</th>\n",
       "      <td>986</td>\n",
       "      <td>/m/0ldx</td>\n",
       "      <td>The Plague</td>\n",
       "      <td>Albert Camus</td>\n",
       "      <td>1947</td>\n",
       "      <td>[Existentialism, Fiction, Absurdistfiction, No...</td>\n",
       "      <td>The text of The Plague is divided into five p...</td>\n",
       "      <td>[The, text, of, The, Plague, is, divided, into...</td>\n",
       "    </tr>\n",
       "  </tbody>\n",
       "</table>\n",
       "</div>"
      ],
      "text/plain": [
       "  book_id freebase_id          book_title           author publication_date   \n",
       "0     620     /m/0hhy         Animal Farm    George Orwell       1945-08-17  \\\n",
       "1     843     /m/0k36  A Clockwork Orange  Anthony Burgess             1962   \n",
       "2     986     /m/0ldx          The Plague     Albert Camus             1947   \n",
       "\n",
       "                                               genre   \n",
       "0  [Romanàclef, Satire, Children'sliterature, Spe...  \\\n",
       "1  [ScienceFiction, Novella, Speculativefiction, ...   \n",
       "2  [Existentialism, Fiction, Absurdistfiction, No...   \n",
       "\n",
       "                                             summary   \n",
       "0   Old Major, the old boar on the Manor Farm, ca...  \\\n",
       "1   Alex, a teenager living in near-future Englan...   \n",
       "2   The text of The Plague is divided into five p...   \n",
       "\n",
       "                                         summary_tag  \n",
       "0  [Old, Major,, the, old, boar, on, the, Manor, ...  \n",
       "1  [Alex,, a, teenager, living, in, near-future, ...  \n",
       "2  [The, text, of, The, Plague, is, divided, into...  "
      ]
     },
     "execution_count": 19,
     "metadata": {},
     "output_type": "execute_result"
    }
   ],
   "source": [
    "df.head(3)"
   ]
  },
  {
   "cell_type": "code",
   "execution_count": 20,
   "id": "cf57dc37",
   "metadata": {},
   "outputs": [],
   "source": [
    "def convert_str_list(a):\n",
    "    if(a==\"\"):\n",
    "        return []\n",
    "    return \"\".join(a.split()).split()"
   ]
  },
  {
   "cell_type": "code",
   "execution_count": 21,
   "id": "0a4a865d",
   "metadata": {},
   "outputs": [],
   "source": [
    "df['author_li']=df['author'].apply(convert_str_list)"
   ]
  },
  {
   "cell_type": "code",
   "execution_count": 22,
   "id": "43a01885",
   "metadata": {},
   "outputs": [
    {
     "data": {
      "text/html": [
       "<div>\n",
       "<style scoped>\n",
       "    .dataframe tbody tr th:only-of-type {\n",
       "        vertical-align: middle;\n",
       "    }\n",
       "\n",
       "    .dataframe tbody tr th {\n",
       "        vertical-align: top;\n",
       "    }\n",
       "\n",
       "    .dataframe thead th {\n",
       "        text-align: right;\n",
       "    }\n",
       "</style>\n",
       "<table border=\"1\" class=\"dataframe\">\n",
       "  <thead>\n",
       "    <tr style=\"text-align: right;\">\n",
       "      <th></th>\n",
       "      <th>book_id</th>\n",
       "      <th>freebase_id</th>\n",
       "      <th>book_title</th>\n",
       "      <th>author</th>\n",
       "      <th>publication_date</th>\n",
       "      <th>genre</th>\n",
       "      <th>summary</th>\n",
       "      <th>summary_tag</th>\n",
       "      <th>author_li</th>\n",
       "    </tr>\n",
       "  </thead>\n",
       "  <tbody>\n",
       "    <tr>\n",
       "      <th>0</th>\n",
       "      <td>620</td>\n",
       "      <td>/m/0hhy</td>\n",
       "      <td>Animal Farm</td>\n",
       "      <td>George Orwell</td>\n",
       "      <td>1945-08-17</td>\n",
       "      <td>[Romanàclef, Satire, Children'sliterature, Spe...</td>\n",
       "      <td>Old Major, the old boar on the Manor Farm, ca...</td>\n",
       "      <td>[Old, Major,, the, old, boar, on, the, Manor, ...</td>\n",
       "      <td>[GeorgeOrwell]</td>\n",
       "    </tr>\n",
       "    <tr>\n",
       "      <th>1</th>\n",
       "      <td>843</td>\n",
       "      <td>/m/0k36</td>\n",
       "      <td>A Clockwork Orange</td>\n",
       "      <td>Anthony Burgess</td>\n",
       "      <td>1962</td>\n",
       "      <td>[ScienceFiction, Novella, Speculativefiction, ...</td>\n",
       "      <td>Alex, a teenager living in near-future Englan...</td>\n",
       "      <td>[Alex,, a, teenager, living, in, near-future, ...</td>\n",
       "      <td>[AnthonyBurgess]</td>\n",
       "    </tr>\n",
       "    <tr>\n",
       "      <th>2</th>\n",
       "      <td>986</td>\n",
       "      <td>/m/0ldx</td>\n",
       "      <td>The Plague</td>\n",
       "      <td>Albert Camus</td>\n",
       "      <td>1947</td>\n",
       "      <td>[Existentialism, Fiction, Absurdistfiction, No...</td>\n",
       "      <td>The text of The Plague is divided into five p...</td>\n",
       "      <td>[The, text, of, The, Plague, is, divided, into...</td>\n",
       "      <td>[AlbertCamus]</td>\n",
       "    </tr>\n",
       "    <tr>\n",
       "      <th>3</th>\n",
       "      <td>1756</td>\n",
       "      <td>/m/0sww</td>\n",
       "      <td>An Enquiry Concerning Human Understanding</td>\n",
       "      <td>David Hume</td>\n",
       "      <td></td>\n",
       "      <td>[]</td>\n",
       "      <td>The argument of the Enquiry proceeds by a ser...</td>\n",
       "      <td>[The, argument, of, the, Enquiry, proceeds, by...</td>\n",
       "      <td>[DavidHume]</td>\n",
       "    </tr>\n",
       "    <tr>\n",
       "      <th>4</th>\n",
       "      <td>2080</td>\n",
       "      <td>/m/0wkt</td>\n",
       "      <td>A Fire Upon the Deep</td>\n",
       "      <td>Vernor Vinge</td>\n",
       "      <td></td>\n",
       "      <td>[Hardsciencefiction, ScienceFiction, Speculati...</td>\n",
       "      <td>The novel posits that space around the Milky ...</td>\n",
       "      <td>[The, novel, posits, that, space, around, the,...</td>\n",
       "      <td>[VernorVinge]</td>\n",
       "    </tr>\n",
       "  </tbody>\n",
       "</table>\n",
       "</div>"
      ],
      "text/plain": [
       "  book_id freebase_id                                 book_title   \n",
       "0     620     /m/0hhy                                Animal Farm  \\\n",
       "1     843     /m/0k36                         A Clockwork Orange   \n",
       "2     986     /m/0ldx                                 The Plague   \n",
       "3    1756     /m/0sww  An Enquiry Concerning Human Understanding   \n",
       "4    2080     /m/0wkt                       A Fire Upon the Deep   \n",
       "\n",
       "            author publication_date   \n",
       "0    George Orwell       1945-08-17  \\\n",
       "1  Anthony Burgess             1962   \n",
       "2     Albert Camus             1947   \n",
       "3       David Hume                    \n",
       "4     Vernor Vinge                    \n",
       "\n",
       "                                               genre   \n",
       "0  [Romanàclef, Satire, Children'sliterature, Spe...  \\\n",
       "1  [ScienceFiction, Novella, Speculativefiction, ...   \n",
       "2  [Existentialism, Fiction, Absurdistfiction, No...   \n",
       "3                                                 []   \n",
       "4  [Hardsciencefiction, ScienceFiction, Speculati...   \n",
       "\n",
       "                                             summary   \n",
       "0   Old Major, the old boar on the Manor Farm, ca...  \\\n",
       "1   Alex, a teenager living in near-future Englan...   \n",
       "2   The text of The Plague is divided into five p...   \n",
       "3   The argument of the Enquiry proceeds by a ser...   \n",
       "4   The novel posits that space around the Milky ...   \n",
       "\n",
       "                                         summary_tag         author_li  \n",
       "0  [Old, Major,, the, old, boar, on, the, Manor, ...    [GeorgeOrwell]  \n",
       "1  [Alex,, a, teenager, living, in, near-future, ...  [AnthonyBurgess]  \n",
       "2  [The, text, of, The, Plague, is, divided, into...     [AlbertCamus]  \n",
       "3  [The, argument, of, the, Enquiry, proceeds, by...       [DavidHume]  \n",
       "4  [The, novel, posits, that, space, around, the,...     [VernorVinge]  "
      ]
     },
     "execution_count": 22,
     "metadata": {},
     "output_type": "execute_result"
    }
   ],
   "source": [
    "df.head()"
   ]
  },
  {
   "cell_type": "code",
   "execution_count": 23,
   "id": "3a957999",
   "metadata": {},
   "outputs": [],
   "source": [
    "df['tags']=df['genre']+df['summary_tag']+df['author_li']"
   ]
  },
  {
   "cell_type": "code",
   "execution_count": 24,
   "id": "8135db30",
   "metadata": {},
   "outputs": [
    {
     "data": {
      "text/html": [
       "<div>\n",
       "<style scoped>\n",
       "    .dataframe tbody tr th:only-of-type {\n",
       "        vertical-align: middle;\n",
       "    }\n",
       "\n",
       "    .dataframe tbody tr th {\n",
       "        vertical-align: top;\n",
       "    }\n",
       "\n",
       "    .dataframe thead th {\n",
       "        text-align: right;\n",
       "    }\n",
       "</style>\n",
       "<table border=\"1\" class=\"dataframe\">\n",
       "  <thead>\n",
       "    <tr style=\"text-align: right;\">\n",
       "      <th></th>\n",
       "      <th>book_id</th>\n",
       "      <th>freebase_id</th>\n",
       "      <th>book_title</th>\n",
       "      <th>author</th>\n",
       "      <th>publication_date</th>\n",
       "      <th>genre</th>\n",
       "      <th>summary</th>\n",
       "      <th>summary_tag</th>\n",
       "      <th>author_li</th>\n",
       "      <th>tags</th>\n",
       "    </tr>\n",
       "  </thead>\n",
       "  <tbody>\n",
       "    <tr>\n",
       "      <th>0</th>\n",
       "      <td>620</td>\n",
       "      <td>/m/0hhy</td>\n",
       "      <td>Animal Farm</td>\n",
       "      <td>George Orwell</td>\n",
       "      <td>1945-08-17</td>\n",
       "      <td>[Romanàclef, Satire, Children'sliterature, Spe...</td>\n",
       "      <td>Old Major, the old boar on the Manor Farm, ca...</td>\n",
       "      <td>[Old, Major,, the, old, boar, on, the, Manor, ...</td>\n",
       "      <td>[GeorgeOrwell]</td>\n",
       "      <td>[Romanàclef, Satire, Children'sliterature, Spe...</td>\n",
       "    </tr>\n",
       "    <tr>\n",
       "      <th>1</th>\n",
       "      <td>843</td>\n",
       "      <td>/m/0k36</td>\n",
       "      <td>A Clockwork Orange</td>\n",
       "      <td>Anthony Burgess</td>\n",
       "      <td>1962</td>\n",
       "      <td>[ScienceFiction, Novella, Speculativefiction, ...</td>\n",
       "      <td>Alex, a teenager living in near-future Englan...</td>\n",
       "      <td>[Alex,, a, teenager, living, in, near-future, ...</td>\n",
       "      <td>[AnthonyBurgess]</td>\n",
       "      <td>[ScienceFiction, Novella, Speculativefiction, ...</td>\n",
       "    </tr>\n",
       "    <tr>\n",
       "      <th>2</th>\n",
       "      <td>986</td>\n",
       "      <td>/m/0ldx</td>\n",
       "      <td>The Plague</td>\n",
       "      <td>Albert Camus</td>\n",
       "      <td>1947</td>\n",
       "      <td>[Existentialism, Fiction, Absurdistfiction, No...</td>\n",
       "      <td>The text of The Plague is divided into five p...</td>\n",
       "      <td>[The, text, of, The, Plague, is, divided, into...</td>\n",
       "      <td>[AlbertCamus]</td>\n",
       "      <td>[Existentialism, Fiction, Absurdistfiction, No...</td>\n",
       "    </tr>\n",
       "  </tbody>\n",
       "</table>\n",
       "</div>"
      ],
      "text/plain": [
       "  book_id freebase_id          book_title           author publication_date   \n",
       "0     620     /m/0hhy         Animal Farm    George Orwell       1945-08-17  \\\n",
       "1     843     /m/0k36  A Clockwork Orange  Anthony Burgess             1962   \n",
       "2     986     /m/0ldx          The Plague     Albert Camus             1947   \n",
       "\n",
       "                                               genre   \n",
       "0  [Romanàclef, Satire, Children'sliterature, Spe...  \\\n",
       "1  [ScienceFiction, Novella, Speculativefiction, ...   \n",
       "2  [Existentialism, Fiction, Absurdistfiction, No...   \n",
       "\n",
       "                                             summary   \n",
       "0   Old Major, the old boar on the Manor Farm, ca...  \\\n",
       "1   Alex, a teenager living in near-future Englan...   \n",
       "2   The text of The Plague is divided into five p...   \n",
       "\n",
       "                                         summary_tag         author_li   \n",
       "0  [Old, Major,, the, old, boar, on, the, Manor, ...    [GeorgeOrwell]  \\\n",
       "1  [Alex,, a, teenager, living, in, near-future, ...  [AnthonyBurgess]   \n",
       "2  [The, text, of, The, Plague, is, divided, into...     [AlbertCamus]   \n",
       "\n",
       "                                                tags  \n",
       "0  [Romanàclef, Satire, Children'sliterature, Spe...  \n",
       "1  [ScienceFiction, Novella, Speculativefiction, ...  \n",
       "2  [Existentialism, Fiction, Absurdistfiction, No...  "
      ]
     },
     "execution_count": 24,
     "metadata": {},
     "output_type": "execute_result"
    }
   ],
   "source": [
    "df.head(3)"
   ]
  },
  {
   "cell_type": "code",
   "execution_count": 25,
   "id": "0966ef2e",
   "metadata": {},
   "outputs": [],
   "source": [
    "df=df.drop(columns=['genre','summary_tag','author_li','freebase_id'])"
   ]
  },
  {
   "cell_type": "code",
   "execution_count": 26,
   "id": "698b8e34",
   "metadata": {},
   "outputs": [
    {
     "data": {
      "text/html": [
       "<div>\n",
       "<style scoped>\n",
       "    .dataframe tbody tr th:only-of-type {\n",
       "        vertical-align: middle;\n",
       "    }\n",
       "\n",
       "    .dataframe tbody tr th {\n",
       "        vertical-align: top;\n",
       "    }\n",
       "\n",
       "    .dataframe thead th {\n",
       "        text-align: right;\n",
       "    }\n",
       "</style>\n",
       "<table border=\"1\" class=\"dataframe\">\n",
       "  <thead>\n",
       "    <tr style=\"text-align: right;\">\n",
       "      <th></th>\n",
       "      <th>book_id</th>\n",
       "      <th>book_title</th>\n",
       "      <th>author</th>\n",
       "      <th>publication_date</th>\n",
       "      <th>summary</th>\n",
       "      <th>tags</th>\n",
       "    </tr>\n",
       "  </thead>\n",
       "  <tbody>\n",
       "    <tr>\n",
       "      <th>0</th>\n",
       "      <td>620</td>\n",
       "      <td>Animal Farm</td>\n",
       "      <td>George Orwell</td>\n",
       "      <td>1945-08-17</td>\n",
       "      <td>Old Major, the old boar on the Manor Farm, ca...</td>\n",
       "      <td>[Romanàclef, Satire, Children'sliterature, Spe...</td>\n",
       "    </tr>\n",
       "    <tr>\n",
       "      <th>1</th>\n",
       "      <td>843</td>\n",
       "      <td>A Clockwork Orange</td>\n",
       "      <td>Anthony Burgess</td>\n",
       "      <td>1962</td>\n",
       "      <td>Alex, a teenager living in near-future Englan...</td>\n",
       "      <td>[ScienceFiction, Novella, Speculativefiction, ...</td>\n",
       "    </tr>\n",
       "    <tr>\n",
       "      <th>2</th>\n",
       "      <td>986</td>\n",
       "      <td>The Plague</td>\n",
       "      <td>Albert Camus</td>\n",
       "      <td>1947</td>\n",
       "      <td>The text of The Plague is divided into five p...</td>\n",
       "      <td>[Existentialism, Fiction, Absurdistfiction, No...</td>\n",
       "    </tr>\n",
       "  </tbody>\n",
       "</table>\n",
       "</div>"
      ],
      "text/plain": [
       "  book_id          book_title           author publication_date   \n",
       "0     620         Animal Farm    George Orwell       1945-08-17  \\\n",
       "1     843  A Clockwork Orange  Anthony Burgess             1962   \n",
       "2     986          The Plague     Albert Camus             1947   \n",
       "\n",
       "                                             summary   \n",
       "0   Old Major, the old boar on the Manor Farm, ca...  \\\n",
       "1   Alex, a teenager living in near-future Englan...   \n",
       "2   The text of The Plague is divided into five p...   \n",
       "\n",
       "                                                tags  \n",
       "0  [Romanàclef, Satire, Children'sliterature, Spe...  \n",
       "1  [ScienceFiction, Novella, Speculativefiction, ...  \n",
       "2  [Existentialism, Fiction, Absurdistfiction, No...  "
      ]
     },
     "execution_count": 26,
     "metadata": {},
     "output_type": "execute_result"
    }
   ],
   "source": [
    "df.head(3)"
   ]
  },
  {
   "cell_type": "code",
   "execution_count": 27,
   "id": "2bbb63d8",
   "metadata": {},
   "outputs": [],
   "source": [
    "df['tags']=df['tags'].apply(lambda x:\" \".join(x))"
   ]
  },
  {
   "cell_type": "code",
   "execution_count": 28,
   "id": "77a1e501",
   "metadata": {},
   "outputs": [
    {
     "data": {
      "text/html": [
       "<div>\n",
       "<style scoped>\n",
       "    .dataframe tbody tr th:only-of-type {\n",
       "        vertical-align: middle;\n",
       "    }\n",
       "\n",
       "    .dataframe tbody tr th {\n",
       "        vertical-align: top;\n",
       "    }\n",
       "\n",
       "    .dataframe thead th {\n",
       "        text-align: right;\n",
       "    }\n",
       "</style>\n",
       "<table border=\"1\" class=\"dataframe\">\n",
       "  <thead>\n",
       "    <tr style=\"text-align: right;\">\n",
       "      <th></th>\n",
       "      <th>book_id</th>\n",
       "      <th>book_title</th>\n",
       "      <th>author</th>\n",
       "      <th>publication_date</th>\n",
       "      <th>summary</th>\n",
       "      <th>tags</th>\n",
       "    </tr>\n",
       "  </thead>\n",
       "  <tbody>\n",
       "    <tr>\n",
       "      <th>0</th>\n",
       "      <td>620</td>\n",
       "      <td>Animal Farm</td>\n",
       "      <td>George Orwell</td>\n",
       "      <td>1945-08-17</td>\n",
       "      <td>Old Major, the old boar on the Manor Farm, ca...</td>\n",
       "      <td>Romanàclef Satire Children'sliterature Specula...</td>\n",
       "    </tr>\n",
       "    <tr>\n",
       "      <th>1</th>\n",
       "      <td>843</td>\n",
       "      <td>A Clockwork Orange</td>\n",
       "      <td>Anthony Burgess</td>\n",
       "      <td>1962</td>\n",
       "      <td>Alex, a teenager living in near-future Englan...</td>\n",
       "      <td>ScienceFiction Novella Speculativefiction Utop...</td>\n",
       "    </tr>\n",
       "    <tr>\n",
       "      <th>2</th>\n",
       "      <td>986</td>\n",
       "      <td>The Plague</td>\n",
       "      <td>Albert Camus</td>\n",
       "      <td>1947</td>\n",
       "      <td>The text of The Plague is divided into five p...</td>\n",
       "      <td>Existentialism Fiction Absurdistfiction Novel ...</td>\n",
       "    </tr>\n",
       "    <tr>\n",
       "      <th>3</th>\n",
       "      <td>1756</td>\n",
       "      <td>An Enquiry Concerning Human Understanding</td>\n",
       "      <td>David Hume</td>\n",
       "      <td></td>\n",
       "      <td>The argument of the Enquiry proceeds by a ser...</td>\n",
       "      <td>The argument of the Enquiry proceeds by a seri...</td>\n",
       "    </tr>\n",
       "    <tr>\n",
       "      <th>4</th>\n",
       "      <td>2080</td>\n",
       "      <td>A Fire Upon the Deep</td>\n",
       "      <td>Vernor Vinge</td>\n",
       "      <td></td>\n",
       "      <td>The novel posits that space around the Milky ...</td>\n",
       "      <td>Hardsciencefiction ScienceFiction Speculativef...</td>\n",
       "    </tr>\n",
       "  </tbody>\n",
       "</table>\n",
       "</div>"
      ],
      "text/plain": [
       "  book_id                                 book_title           author   \n",
       "0     620                                Animal Farm    George Orwell  \\\n",
       "1     843                         A Clockwork Orange  Anthony Burgess   \n",
       "2     986                                 The Plague     Albert Camus   \n",
       "3    1756  An Enquiry Concerning Human Understanding       David Hume   \n",
       "4    2080                       A Fire Upon the Deep     Vernor Vinge   \n",
       "\n",
       "  publication_date                                            summary   \n",
       "0       1945-08-17   Old Major, the old boar on the Manor Farm, ca...  \\\n",
       "1             1962   Alex, a teenager living in near-future Englan...   \n",
       "2             1947   The text of The Plague is divided into five p...   \n",
       "3                    The argument of the Enquiry proceeds by a ser...   \n",
       "4                    The novel posits that space around the Milky ...   \n",
       "\n",
       "                                                tags  \n",
       "0  Romanàclef Satire Children'sliterature Specula...  \n",
       "1  ScienceFiction Novella Speculativefiction Utop...  \n",
       "2  Existentialism Fiction Absurdistfiction Novel ...  \n",
       "3  The argument of the Enquiry proceeds by a seri...  \n",
       "4  Hardsciencefiction ScienceFiction Speculativef...  "
      ]
     },
     "execution_count": 28,
     "metadata": {},
     "output_type": "execute_result"
    }
   ],
   "source": [
    "df.head()"
   ]
  },
  {
   "cell_type": "code",
   "execution_count": 29,
   "id": "b4891b4f",
   "metadata": {},
   "outputs": [
    {
     "data": {
      "text/html": [
       "<div>\n",
       "<style scoped>\n",
       "    .dataframe tbody tr th:only-of-type {\n",
       "        vertical-align: middle;\n",
       "    }\n",
       "\n",
       "    .dataframe tbody tr th {\n",
       "        vertical-align: top;\n",
       "    }\n",
       "\n",
       "    .dataframe thead th {\n",
       "        text-align: right;\n",
       "    }\n",
       "</style>\n",
       "<table border=\"1\" class=\"dataframe\">\n",
       "  <thead>\n",
       "    <tr style=\"text-align: right;\">\n",
       "      <th></th>\n",
       "      <th>book_id</th>\n",
       "      <th>book_title</th>\n",
       "      <th>author</th>\n",
       "      <th>publication_date</th>\n",
       "      <th>summary</th>\n",
       "    </tr>\n",
       "  </thead>\n",
       "  <tbody>\n",
       "    <tr>\n",
       "      <th>0</th>\n",
       "      <td>620</td>\n",
       "      <td>Animal Farm</td>\n",
       "      <td>George Orwell</td>\n",
       "      <td>1945-08-17</td>\n",
       "      <td>Old Major, the old boar on the Manor Farm, ca...</td>\n",
       "    </tr>\n",
       "    <tr>\n",
       "      <th>1</th>\n",
       "      <td>843</td>\n",
       "      <td>A Clockwork Orange</td>\n",
       "      <td>Anthony Burgess</td>\n",
       "      <td>1962</td>\n",
       "      <td>Alex, a teenager living in near-future Englan...</td>\n",
       "    </tr>\n",
       "    <tr>\n",
       "      <th>2</th>\n",
       "      <td>986</td>\n",
       "      <td>The Plague</td>\n",
       "      <td>Albert Camus</td>\n",
       "      <td>1947</td>\n",
       "      <td>The text of The Plague is divided into five p...</td>\n",
       "    </tr>\n",
       "    <tr>\n",
       "      <th>3</th>\n",
       "      <td>1756</td>\n",
       "      <td>An Enquiry Concerning Human Understanding</td>\n",
       "      <td>David Hume</td>\n",
       "      <td></td>\n",
       "      <td>The argument of the Enquiry proceeds by a ser...</td>\n",
       "    </tr>\n",
       "    <tr>\n",
       "      <th>4</th>\n",
       "      <td>2080</td>\n",
       "      <td>A Fire Upon the Deep</td>\n",
       "      <td>Vernor Vinge</td>\n",
       "      <td></td>\n",
       "      <td>The novel posits that space around the Milky ...</td>\n",
       "    </tr>\n",
       "  </tbody>\n",
       "</table>\n",
       "</div>"
      ],
      "text/plain": [
       "  book_id                                 book_title           author   \n",
       "0     620                                Animal Farm    George Orwell  \\\n",
       "1     843                         A Clockwork Orange  Anthony Burgess   \n",
       "2     986                                 The Plague     Albert Camus   \n",
       "3    1756  An Enquiry Concerning Human Understanding       David Hume   \n",
       "4    2080                       A Fire Upon the Deep     Vernor Vinge   \n",
       "\n",
       "  publication_date                                            summary  \n",
       "0       1945-08-17   Old Major, the old boar on the Manor Farm, ca...  \n",
       "1             1962   Alex, a teenager living in near-future Englan...  \n",
       "2             1947   The text of The Plague is divided into five p...  \n",
       "3                    The argument of the Enquiry proceeds by a ser...  \n",
       "4                    The novel posits that space around the Milky ...  "
      ]
     },
     "execution_count": 29,
     "metadata": {},
     "output_type": "execute_result"
    }
   ],
   "source": [
    "df_copy=df.drop(columns=['tags'])\n",
    "df_copy.to_csv(\"book_database_data.csv\")\n",
    "df_copy.head()"
   ]
  },
  {
   "cell_type": "code",
   "execution_count": 30,
   "id": "02da9ab9",
   "metadata": {},
   "outputs": [
    {
     "data": {
      "text/plain": [
       "0.0"
      ]
     },
     "execution_count": 30,
     "metadata": {},
     "output_type": "execute_result"
    }
   ],
   "source": [
    "c=0\n",
    "sum=0\n",
    "for i in df['tags']:\n",
    "    c+=1\n",
    "sum/c"
   ]
  },
  {
   "cell_type": "code",
   "execution_count": 31,
   "id": "c9f806d7",
   "metadata": {},
   "outputs": [],
   "source": [
    "from sklearn.feature_extraction.text import CountVectorizer"
   ]
  },
  {
   "cell_type": "markdown",
   "id": "86d7f389",
   "metadata": {},
   "source": [
    "<h2>stop_words{‘english’}, list, default=None</h2>\n",
    "<h4>If ‘english’, a built-in stop word list for English is used.</h4>\n",
    "<p>Stop words are words like “and”, “the”, “him”, which are presumed to be uninformative in representing the content of a text, and which may be removed to avoid them being construed as signal for prediction. Sometimes, however, similar words are useful for prediction, such as in classifying writing style or personality.</p>"
   ]
  },
  {
   "cell_type": "code",
   "execution_count": 32,
   "id": "d5d754ae",
   "metadata": {},
   "outputs": [],
   "source": [
    "cv=CountVectorizer(max_features=2600,stop_words='english')"
   ]
  },
  {
   "cell_type": "code",
   "execution_count": 33,
   "id": "7457dba1",
   "metadata": {},
   "outputs": [],
   "source": [
    "vector=cv.fit_transform(df['tags']).toarray()"
   ]
  },
  {
   "cell_type": "code",
   "execution_count": 34,
   "id": "7c91be69",
   "metadata": {},
   "outputs": [
    {
     "data": {
      "text/plain": [
       "array([[0, 0, 0, ..., 0, 0, 0],\n",
       "       [0, 0, 0, ..., 0, 0, 0],\n",
       "       [0, 0, 0, ..., 0, 0, 0],\n",
       "       ...,\n",
       "       [0, 0, 0, ..., 0, 0, 0],\n",
       "       [0, 0, 0, ..., 0, 0, 0],\n",
       "       [0, 0, 1, ..., 0, 0, 0]])"
      ]
     },
     "execution_count": 34,
     "metadata": {},
     "output_type": "execute_result"
    }
   ],
   "source": [
    "vector"
   ]
  },
  {
   "cell_type": "code",
   "execution_count": 35,
   "id": "6eba9639",
   "metadata": {},
   "outputs": [
    {
     "data": {
      "text/plain": [
       "(16559, 2600)"
      ]
     },
     "execution_count": 35,
     "metadata": {},
     "output_type": "execute_result"
    }
   ],
   "source": [
    "vector.shape"
   ]
  },
  {
   "cell_type": "code",
   "execution_count": 36,
   "id": "85c94eeb",
   "metadata": {},
   "outputs": [],
   "source": [
    "\n",
    "from sklearn.metrics.pairwise import cosine_similarity"
   ]
  },
  {
   "cell_type": "code",
   "execution_count": 37,
   "id": "90bb1989",
   "metadata": {},
   "outputs": [],
   "source": [
    "similarity=cosine_similarity(vector)"
   ]
  },
  {
   "cell_type": "code",
   "execution_count": 38,
   "id": "38ead702",
   "metadata": {},
   "outputs": [
    {
     "data": {
      "text/plain": [
       "array([1.        , 0.03818428, 0.0509862 , 0.15345824, 0.1204047 ,\n",
       "       0.05392181, 0.08571606, 0.04187486, 0.01943224, 0.01975254,\n",
       "       0.03401912, 0.02055064, 0.07353638, 0.04278414, 0.03833568,\n",
       "       0.05042417, 0.02001434, 0.02467229, 0.0795639 , 0.01165591,\n",
       "       0.02388752, 0.06339088, 0.11952996, 0.0693554 , 0.04136947,\n",
       "       0.06046375, 0.09349498, 0.04466743, 0.03338021, 0.02782774,\n",
       "       0.0708479 , 0.03096688, 0.06380179, 0.04365217, 0.04245846,\n",
       "       0.06560577, 0.01873891, 0.03060051, 0.00801212, 0.05802669,\n",
       "       0.06437462, 0.09910494, 0.07021836, 0.06409693, 0.06088767,\n",
       "       0.03815294, 0.0480941 , 0.0675641 , 0.02479688, 0.10824548,\n",
       "       0.04975997, 0.07050116, 0.03646776, 0.05570998, 0.04037332,\n",
       "       0.0264782 , 0.05348824, 0.04294881, 0.09900192, 0.06352549,\n",
       "       0.03543428, 0.06061741, 0.05233855, 0.02725777, 0.04391849,\n",
       "       0.09506317, 0.01838106, 0.06020235, 0.03843425, 0.04288913,\n",
       "       0.05832438, 0.0268529 , 0.04331285, 0.08088875, 0.10067719,\n",
       "       0.05801759, 0.01820409, 0.02775937, 0.04185143, 0.05036899,\n",
       "       0.0504675 , 0.06906732, 0.03907788, 0.04766746, 0.05258609,\n",
       "       0.04101503, 0.03154026, 0.02017086, 0.04498723, 0.0413867 ,\n",
       "       0.05355767, 0.02446132, 0.03588739, 0.03291642, 0.06690601,\n",
       "       0.02071554, 0.01698565, 0.05063125, 0.04164556, 0.0234568 ])"
      ]
     },
     "execution_count": 38,
     "metadata": {},
     "output_type": "execute_result"
    }
   ],
   "source": [
    "similarity[0][0:100]"
   ]
  },
  {
   "cell_type": "code",
   "execution_count": 39,
   "id": "e451e63f",
   "metadata": {},
   "outputs": [
    {
     "data": {
      "text/plain": [
       "[(0, 0.9999999999999987),\n",
       " (9989, 0.6373840662804195),\n",
       " (6869, 0.49145238553575915),\n",
       " (14697, 0.4252759592381436),\n",
       " (6921, 0.4124756199923948),\n",
       " (13188, 0.4034150461707368),\n",
       " (14884, 0.38920319621159954),\n",
       " (3869, 0.38863123498319696),\n",
       " (9599, 0.38442099850655814),\n",
       " (14642, 0.3819839081393492),\n",
       " (13006, 0.37236951874163177),\n",
       " (8385, 0.37202640001523746),\n",
       " (13120, 0.3703602097358165),\n",
       " (5759, 0.33698601832240105),\n",
       " (1408, 0.33592736281152813),\n",
       " (13169, 0.33521179620591085),\n",
       " (14534, 0.3289334007615259),\n",
       " (14345, 0.3283106596233106),\n",
       " (12926, 0.3138078907496097),\n",
       " (6966, 0.3069734984568538),\n",
       " (15966, 0.3068748783912829),\n",
       " (5762, 0.30130300333029086),\n",
       " (382, 0.3005790171555884),\n",
       " (14783, 0.2974991267127826),\n",
       " (4223, 0.2847547978862387),\n",
       " (13004, 0.2835951884738485),\n",
       " (6562, 0.26276267341315745),\n",
       " (14501, 0.2616276241612042),\n",
       " (3206, 0.25536828518046994),\n",
       " (4468, 0.2541298890347961),\n",
       " (15049, 0.2533904999514806),\n",
       " (2103, 0.25337025314725037),\n",
       " (15054, 0.25235794479428375),\n",
       " (15034, 0.25085454237434757),\n",
       " (16110, 0.25077553251294193),\n",
       " (1885, 0.24801088988406542),\n",
       " (9807, 0.2465558371496745),\n",
       " (14037, 0.24649041552593953),\n",
       " (8184, 0.24550161174516183),\n",
       " (1035, 0.24396695726578949)]"
      ]
     },
     "execution_count": 39,
     "metadata": {},
     "output_type": "execute_result"
    }
   ],
   "source": [
    "sorted(list(enumerate(similarity[0])),reverse=True,key=lambda x:x[1])[0:40]"
   ]
  },
  {
   "cell_type": "code",
   "execution_count": 40,
   "id": "d6dcf982",
   "metadata": {},
   "outputs": [
    {
     "data": {
      "text/html": [
       "<div>\n",
       "<style scoped>\n",
       "    .dataframe tbody tr th:only-of-type {\n",
       "        vertical-align: middle;\n",
       "    }\n",
       "\n",
       "    .dataframe tbody tr th {\n",
       "        vertical-align: top;\n",
       "    }\n",
       "\n",
       "    .dataframe thead th {\n",
       "        text-align: right;\n",
       "    }\n",
       "</style>\n",
       "<table border=\"1\" class=\"dataframe\">\n",
       "  <thead>\n",
       "    <tr style=\"text-align: right;\">\n",
       "      <th></th>\n",
       "      <th>book_id</th>\n",
       "      <th>book_title</th>\n",
       "      <th>author</th>\n",
       "      <th>publication_date</th>\n",
       "      <th>summary</th>\n",
       "      <th>tags</th>\n",
       "    </tr>\n",
       "  </thead>\n",
       "  <tbody>\n",
       "    <tr>\n",
       "      <th>9989</th>\n",
       "      <td>11541759</td>\n",
       "      <td>Snowball's Chance</td>\n",
       "      <td>John Reed</td>\n",
       "      <td></td>\n",
       "      <td>The story begins with the death of Napoleon, ...</td>\n",
       "      <td>Parody The story begins with the death of Napo...</td>\n",
       "    </tr>\n",
       "    <tr>\n",
       "      <th>6869</th>\n",
       "      <td>5750501</td>\n",
       "      <td>Freddy Goes to Florida</td>\n",
       "      <td>Walter R. Brooks</td>\n",
       "      <td></td>\n",
       "      <td>Freddy was an intelligent pig that lived on t...</td>\n",
       "      <td>Children'sliterature Freddy was an intelligent...</td>\n",
       "    </tr>\n",
       "    <tr>\n",
       "      <th>14697</th>\n",
       "      <td>25120921</td>\n",
       "      <td>Jack the Hare and Mukuyu Forest</td>\n",
       "      <td></td>\n",
       "      <td></td>\n",
       "      <td>The story is based on a variety of animals li...</td>\n",
       "      <td>The story is based on a variety of animals liv...</td>\n",
       "    </tr>\n",
       "    <tr>\n",
       "      <th>6921</th>\n",
       "      <td>5812965</td>\n",
       "      <td>Freddy Goes to the North Pole</td>\n",
       "      <td>Walter R. Brooks</td>\n",
       "      <td></td>\n",
       "      <td>In the beginning, Freddy had the idea to esta...</td>\n",
       "      <td>Children'sliterature In the beginning, Freddy ...</td>\n",
       "    </tr>\n",
       "    <tr>\n",
       "      <th>13188</th>\n",
       "      <td>20155772</td>\n",
       "      <td>Panda Bear, Panda Bear, What Do You See?</td>\n",
       "      <td>Bill Martin, Jr.</td>\n",
       "      <td>2006-07-11</td>\n",
       "      <td>A bunch of animals answer the question \"What ...</td>\n",
       "      <td>A bunch of animals answer the question \"What d...</td>\n",
       "    </tr>\n",
       "  </tbody>\n",
       "</table>\n",
       "</div>"
      ],
      "text/plain": [
       "        book_id                                book_title            author   \n",
       "9989   11541759                         Snowball's Chance         John Reed  \\\n",
       "6869    5750501                    Freddy Goes to Florida  Walter R. Brooks   \n",
       "14697  25120921           Jack the Hare and Mukuyu Forest                     \n",
       "6921    5812965             Freddy Goes to the North Pole  Walter R. Brooks   \n",
       "13188  20155772  Panda Bear, Panda Bear, What Do You See?  Bill Martin, Jr.   \n",
       "\n",
       "      publication_date                                            summary   \n",
       "9989                     The story begins with the death of Napoleon, ...  \\\n",
       "6869                     Freddy was an intelligent pig that lived on t...   \n",
       "14697                    The story is based on a variety of animals li...   \n",
       "6921                     In the beginning, Freddy had the idea to esta...   \n",
       "13188       2006-07-11   A bunch of animals answer the question \"What ...   \n",
       "\n",
       "                                                    tags  \n",
       "9989   Parody The story begins with the death of Napo...  \n",
       "6869   Children'sliterature Freddy was an intelligent...  \n",
       "14697  The story is based on a variety of animals liv...  \n",
       "6921   Children'sliterature In the beginning, Freddy ...  \n",
       "13188  A bunch of animals answer the question \"What d...  "
      ]
     },
     "execution_count": 40,
     "metadata": {},
     "output_type": "execute_result"
    }
   ],
   "source": [
    "df.iloc[[9989,6869,14697,6921,13188]]"
   ]
  },
  {
   "cell_type": "code",
   "execution_count": 43,
   "id": "0c7fb9bb",
   "metadata": {},
   "outputs": [],
   "source": [
    "def recommend(mov):\n",
    "    ind=df[df['book_title']==mov].index[0]\n",
    "    dist=sorted(list(enumerate(similarity[ind])),reverse=True,key=lambda x:x[1])\n",
    "    for i in range(6):\n",
    "#         print(df.iloc[dist[i][0]]['tags'])\n",
    "        print(df.iloc[dist[i][0]]['book_title'])"
   ]
  },
  {
   "cell_type": "code",
   "execution_count": 45,
   "id": "c03b6887",
   "metadata": {},
   "outputs": [
    {
     "data": {
      "text/html": [
       "<div>\n",
       "<style scoped>\n",
       "    .dataframe tbody tr th:only-of-type {\n",
       "        vertical-align: middle;\n",
       "    }\n",
       "\n",
       "    .dataframe tbody tr th {\n",
       "        vertical-align: top;\n",
       "    }\n",
       "\n",
       "    .dataframe thead th {\n",
       "        text-align: right;\n",
       "    }\n",
       "</style>\n",
       "<table border=\"1\" class=\"dataframe\">\n",
       "  <thead>\n",
       "    <tr style=\"text-align: right;\">\n",
       "      <th></th>\n",
       "      <th>book_id</th>\n",
       "      <th>book_title</th>\n",
       "      <th>author</th>\n",
       "      <th>publication_date</th>\n",
       "      <th>summary</th>\n",
       "      <th>tags</th>\n",
       "    </tr>\n",
       "  </thead>\n",
       "  <tbody>\n",
       "    <tr>\n",
       "      <th>0</th>\n",
       "      <td>620</td>\n",
       "      <td>Animal Farm</td>\n",
       "      <td>George Orwell</td>\n",
       "      <td>1945-08-17</td>\n",
       "      <td>Old Major, the old boar on the Manor Farm, ca...</td>\n",
       "      <td>Romanàclef Satire Children'sliterature Specula...</td>\n",
       "    </tr>\n",
       "    <tr>\n",
       "      <th>1</th>\n",
       "      <td>843</td>\n",
       "      <td>A Clockwork Orange</td>\n",
       "      <td>Anthony Burgess</td>\n",
       "      <td>1962</td>\n",
       "      <td>Alex, a teenager living in near-future Englan...</td>\n",
       "      <td>ScienceFiction Novella Speculativefiction Utop...</td>\n",
       "    </tr>\n",
       "  </tbody>\n",
       "</table>\n",
       "</div>"
      ],
      "text/plain": [
       "  book_id          book_title           author publication_date   \n",
       "0     620         Animal Farm    George Orwell       1945-08-17  \\\n",
       "1     843  A Clockwork Orange  Anthony Burgess             1962   \n",
       "\n",
       "                                             summary   \n",
       "0   Old Major, the old boar on the Manor Farm, ca...  \\\n",
       "1   Alex, a teenager living in near-future Englan...   \n",
       "\n",
       "                                                tags  \n",
       "0  Romanàclef Satire Children'sliterature Specula...  \n",
       "1  ScienceFiction Novella Speculativefiction Utop...  "
      ]
     },
     "execution_count": 45,
     "metadata": {},
     "output_type": "execute_result"
    }
   ],
   "source": [
    "df.head(2)"
   ]
  },
  {
   "cell_type": "code",
   "execution_count": 44,
   "id": "bb8450ba",
   "metadata": {},
   "outputs": [
    {
     "name": "stdout",
     "output_type": "stream",
     "text": [
      "Animal Farm\n",
      "Snowball's Chance\n",
      "Freddy Goes to Florida\n",
      "Jack the Hare and Mukuyu Forest\n",
      "Freddy Goes to the North Pole\n",
      "Panda Bear, Panda Bear, What Do You See?\n"
     ]
    }
   ],
   "source": [
    "recommend(\"Animal Farm\")"
   ]
  },
  {
   "cell_type": "code",
   "execution_count": 47,
   "id": "06c5c908",
   "metadata": {},
   "outputs": [
    {
     "data": {
      "text/plain": [
       "[(1, 1.0),\n",
       " (7267, 0.7707724747256834),\n",
       " (4013, 0.7473260247124395),\n",
       " (15837, 0.7399584292133948),\n",
       " (5599, 0.7364004322909915),\n",
       " (5761, 0.7180456616303534)]"
      ]
     },
     "execution_count": 47,
     "metadata": {},
     "output_type": "execute_result"
    }
   ],
   "source": [
    "sorted(list(enumerate(similarity[1])),reverse=True,key=lambda x:x[1])[0:6]"
   ]
  },
  {
   "cell_type": "code",
   "execution_count": 46,
   "id": "7e046492",
   "metadata": {},
   "outputs": [
    {
     "name": "stdout",
     "output_type": "stream",
     "text": [
      "A Clockwork Orange\n",
      "Skeleton Key\n",
      "Little Boy Blue\n",
      "Scorpia Rising\n",
      "Stormbreaker\n",
      "Point Blanc\n"
     ]
    }
   ],
   "source": [
    "recommend(\"A Clockwork Orange\")"
   ]
  }
 ],
 "metadata": {
  "kernelspec": {
   "display_name": "Python 3 (ipykernel)",
   "language": "python",
   "name": "python3"
  },
  "language_info": {
   "codemirror_mode": {
    "name": "ipython",
    "version": 3
   },
   "file_extension": ".py",
   "mimetype": "text/x-python",
   "name": "python",
   "nbconvert_exporter": "python",
   "pygments_lexer": "ipython3",
   "version": "3.9.13"
  }
 },
 "nbformat": 4,
 "nbformat_minor": 5
}
